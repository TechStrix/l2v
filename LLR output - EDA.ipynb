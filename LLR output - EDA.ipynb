{
 "cells": [
  {
   "cell_type": "code",
   "execution_count": 2,
   "metadata": {
    "collapsed": true
   },
   "outputs": [],
   "source": [
    "import pandas as pd\n",
    "%matplotlib inline"
   ]
  },
  {
   "cell_type": "markdown",
   "metadata": {},
   "source": [
    "# Test with 10K entries"
   ]
  },
  {
   "cell_type": "markdown",
   "metadata": {},
   "source": [
    "The file is formatted in bash, to remove parenthesis"
   ]
  },
  {
   "cell_type": "markdown",
   "metadata": {},
   "source": [
    "``` cat quick10k.csv | sed 's/(//g' | sed 's/)//g' > quick10k_formatted.csv```"
   ]
  },
  {
   "cell_type": "code",
   "execution_count": 3,
   "metadata": {
    "collapsed": false
   },
   "outputs": [],
   "source": [
    "llr_output10k = pd.read_csv(\"data/output/quick10k_formatted.csv\", header=None)"
   ]
  },
  {
   "cell_type": "code",
   "execution_count": 4,
   "metadata": {
    "collapsed": false
   },
   "outputs": [
    {
     "data": {
      "text/plain": [
       "(10000, 3)"
      ]
     },
     "execution_count": 4,
     "metadata": {},
     "output_type": "execute_result"
    }
   ],
   "source": [
    "llr_output10k.shape"
   ]
  },
  {
   "cell_type": "code",
   "execution_count": 5,
   "metadata": {
    "collapsed": false
   },
   "outputs": [
    {
     "data": {
      "text/html": [
       "<div>\n",
       "<table border=\"1\" class=\"dataframe\">\n",
       "  <thead>\n",
       "    <tr style=\"text-align: right;\">\n",
       "      <th></th>\n",
       "      <th>0</th>\n",
       "      <th>1</th>\n",
       "      <th>2</th>\n",
       "    </tr>\n",
       "  </thead>\n",
       "  <tbody>\n",
       "    <tr>\n",
       "      <th>0</th>\n",
       "      <td>289</td>\n",
       "      <td>3638</td>\n",
       "      <td>0.848318</td>\n",
       "    </tr>\n",
       "    <tr>\n",
       "      <th>1</th>\n",
       "      <td>393</td>\n",
       "      <td>3686</td>\n",
       "      <td>0.723820</td>\n",
       "    </tr>\n",
       "    <tr>\n",
       "      <th>2</th>\n",
       "      <td>5953</td>\n",
       "      <td>3112</td>\n",
       "      <td>0.866693</td>\n",
       "    </tr>\n",
       "    <tr>\n",
       "      <th>3</th>\n",
       "      <td>4414</td>\n",
       "      <td>3348</td>\n",
       "      <td>0.455875</td>\n",
       "    </tr>\n",
       "    <tr>\n",
       "      <th>4</th>\n",
       "      <td>4984</td>\n",
       "      <td>1623</td>\n",
       "      <td>0.466411</td>\n",
       "    </tr>\n",
       "  </tbody>\n",
       "</table>\n",
       "</div>"
      ],
      "text/plain": [
       "      0     1         2\n",
       "0   289  3638  0.848318\n",
       "1   393  3686  0.723820\n",
       "2  5953  3112  0.866693\n",
       "3  4414  3348  0.455875\n",
       "4  4984  1623  0.466411"
      ]
     },
     "execution_count": 5,
     "metadata": {},
     "output_type": "execute_result"
    }
   ],
   "source": [
    "llr_output10k.head()"
   ]
  },
  {
   "cell_type": "markdown",
   "metadata": {},
   "source": [
    "Look at distribution of LLR scores"
   ]
  },
  {
   "cell_type": "code",
   "execution_count": 6,
   "metadata": {
    "collapsed": false
   },
   "outputs": [
    {
     "data": {
      "image/png": "[encoded data removed]",
      "text/plain": [
       "<matplotlib.figure.Figure at 0x11a238d68>"
      ]
     },
     "metadata": {},
     "output_type": "display_data"
    }
   ],
   "source": [
    "llr_output10k[2].hist();"
   ]
  },
  {
   "cell_type": "code",
   "execution_count": 7,
   "metadata": {
    "collapsed": true
   },
   "outputs": [],
   "source": [
    "threshold = 0.6 # values under threshold would be removed"
   ]
  },
  {
   "cell_type": "code",
   "execution_count": 8,
   "metadata": {
    "collapsed": true
   },
   "outputs": [],
   "source": [
    "llr_output10k_threshold = llr_output10k[llr_output10k[2] >= threshold]"
   ]
  },
  {
   "cell_type": "code",
   "execution_count": 9,
   "metadata": {
    "collapsed": false
   },
   "outputs": [
    {
     "data": {
      "text/plain": [
       "(5988, 3)"
      ]
     },
     "execution_count": 9,
     "metadata": {},
     "output_type": "execute_result"
    }
   ],
   "source": [
    "llr_output10k_threshold.shape"
   ]
  },
  {
   "cell_type": "markdown",
   "metadata": {},
   "source": [
    "> Close to 4K edges are removed"
   ]
  },
  {
   "cell_type": "code",
   "execution_count": 10,
   "metadata": {
    "collapsed": false
   },
   "outputs": [
    {
     "data": {
      "image/png": "[encoded data removed]",
      "text/plain": [
       "<matplotlib.figure.Figure at 0x11a897e10>"
      ]
     },
     "metadata": {},
     "output_type": "display_data"
    }
   ],
   "source": [
    "llr_output10k_threshold[2].hist();"
   ]
  },
  {
   "cell_type": "code",
   "execution_count": 11,
   "metadata": {
    "collapsed": true
   },
   "outputs": [],
   "source": [
    "# save output in format that can be used for DeepWalk python implementation\n",
    "llr_output10k_threshold.to_csv(\"data/output/llr_output10k_threshold.csv\", header=False, columns=[0, 1], index=False, sep='\\t')"
   ]
  },
  {
   "cell_type": "code",
   "execution_count": 12,
   "metadata": {
    "collapsed": true
   },
   "outputs": [],
   "source": [
    "# save output in format that can be used for DeepWalk Java implementation\n",
    "llr_output10k_threshold.to_csv(\"data/output/llrjava.csv\", header=False, columns=[0, 1], index=False, sep=',')"
   ]
  },
  {
   "cell_type": "markdown",
   "metadata": {},
   "source": [
    "## All data set\n",
    "Will apply the same pre-processing to file containing all LLR scores"
   ]
  },
  {
   "cell_type": "markdown",
   "metadata": {},
   "source": [
    "```cat part-00000 | sed 's/(//g' | sed 's/)//g' > part-00000_formatted.csv```"
   ]
  },
  {
   "cell_type": "code",
   "execution_count": 37,
   "metadata": {
    "collapsed": true
   },
   "outputs": [],
   "source": [
    "part00000 = pd.read_csv(\"data/output/part-00000_formatted.csv\", header=None)"
   ]
  },
  {
   "cell_type": "code",
   "execution_count": 36,
   "metadata": {
    "collapsed": false
   },
   "outputs": [
    {
     "data": {
      "text/plain": [
       "(13330111, 3)"
      ]
     },
     "execution_count": 36,
     "metadata": {},
     "output_type": "execute_result"
    }
   ],
   "source": [
    "part00000.shape"
   ]
  },
  {
   "cell_type": "code",
   "execution_count": 38,
   "metadata": {
    "collapsed": false
   },
   "outputs": [
    {
     "data": {
      "text/html": [
       "<div>\n",
       "<table border=\"1\" class=\"dataframe\">\n",
       "  <thead>\n",
       "    <tr style=\"text-align: right;\">\n",
       "      <th></th>\n",
       "      <th>0</th>\n",
       "      <th>1</th>\n",
       "      <th>2</th>\n",
       "    </tr>\n",
       "  </thead>\n",
       "  <tbody>\n",
       "    <tr>\n",
       "      <th>0</th>\n",
       "      <td>289</td>\n",
       "      <td>3638</td>\n",
       "      <td>0.848318</td>\n",
       "    </tr>\n",
       "    <tr>\n",
       "      <th>1</th>\n",
       "      <td>393</td>\n",
       "      <td>3686</td>\n",
       "      <td>0.723820</td>\n",
       "    </tr>\n",
       "    <tr>\n",
       "      <th>2</th>\n",
       "      <td>5953</td>\n",
       "      <td>3112</td>\n",
       "      <td>0.866693</td>\n",
       "    </tr>\n",
       "    <tr>\n",
       "      <th>3</th>\n",
       "      <td>4414</td>\n",
       "      <td>3348</td>\n",
       "      <td>0.455875</td>\n",
       "    </tr>\n",
       "    <tr>\n",
       "      <th>4</th>\n",
       "      <td>4984</td>\n",
       "      <td>1623</td>\n",
       "      <td>0.466411</td>\n",
       "    </tr>\n",
       "  </tbody>\n",
       "</table>\n",
       "</div>"
      ],
      "text/plain": [
       "      0     1         2\n",
       "0   289  3638  0.848318\n",
       "1   393  3686  0.723820\n",
       "2  5953  3112  0.866693\n",
       "3  4414  3348  0.455875\n",
       "4  4984  1623  0.466411"
      ]
     },
     "execution_count": 38,
     "metadata": {},
     "output_type": "execute_result"
    }
   ],
   "source": [
    "part00000.head()"
   ]
  },
  {
   "cell_type": "code",
   "execution_count": 41,
   "metadata": {
    "collapsed": false
   },
   "outputs": [
    {
     "data": {
      "image/png": "[encoded data removed]",
      "text/plain": [
       "<matplotlib.figure.Figure at 0x10d7d7748>"
      ]
     },
     "metadata": {},
     "output_type": "display_data"
    }
   ],
   "source": [
    "part00000[2].hist();"
   ]
  },
  {
   "cell_type": "code",
   "execution_count": 40,
   "metadata": {
    "collapsed": true
   },
   "outputs": [],
   "source": [
    "threshold = 0.6 # values under threshold would be removed"
   ]
  },
  {
   "cell_type": "code",
   "execution_count": 42,
   "metadata": {
    "collapsed": true
   },
   "outputs": [],
   "source": [
    "part00000_threshold = part00000[part00000[2] >= threshold]"
   ]
  },
  {
   "cell_type": "code",
   "execution_count": 43,
   "metadata": {
    "collapsed": false
   },
   "outputs": [
    {
     "data": {
      "text/plain": [
       "(7959213, 3)"
      ]
     },
     "execution_count": 43,
     "metadata": {},
     "output_type": "execute_result"
    }
   ],
   "source": [
    "part00000_threshold.shape"
   ]
  },
  {
   "cell_type": "code",
   "execution_count": 45,
   "metadata": {
    "collapsed": false
   },
   "outputs": [
    {
     "data": {
      "image/png": "[encoded data removed]",
      "text/plain": [
       "<matplotlib.figure.Figure at 0x105893668>"
      ]
     },
     "metadata": {},
     "output_type": "display_data"
    }
   ],
   "source": [
    "part00000_threshold[2].hist();"
   ]
  },
  {
   "cell_type": "code",
   "execution_count": 47,
   "metadata": {
    "collapsed": true
   },
   "outputs": [],
   "source": [
    "part00000_threshold.to_csv(\"data/output/part00000_threshold.csv\", header=False, columns=[0, 1], index=False, sep='\\t')"
   ]
  },
  {
   "cell_type": "markdown",
   "metadata": {
    "collapsed": true
   },
   "source": [
    "## Embeddings"
   ]
  },
  {
   "cell_type": "markdown",
   "metadata": {},
   "source": [
    "```deepwalk --format edgelist --input /Users/jaimealmeida/Repos/l2v/data/output/part00000_threshold.csv --number-walks 10 --output /Users/jaimealmeida/Repos/l2v/data/output/part00000_threshold.embeddings --walk-length 10 --representation-size 100```"
   ]
  },
  {
   "cell_type": "markdown",
   "metadata": {},
   "source": [
    "Number of nodes: 5639      \n",
    "Number of walks: 56390       \n",
    "Data size (walks*length): 563900    \n",
    "Walking...   \n",
    "Training..     "
   ]
  },
  {
   "cell_type": "code",
   "execution_count": 56,
   "metadata": {
    "collapsed": false
   },
   "outputs": [],
   "source": [
    "embeddings = pd.read_csv(\"data/output/part00000_threshold.embeddings\", skiprows=[0], header=None, sep=' ')"
   ]
  },
  {
   "cell_type": "code",
   "execution_count": 57,
   "metadata": {
    "collapsed": false
   },
   "outputs": [
    {
     "data": {
      "text/plain": [
       "(5639, 101)"
      ]
     },
     "execution_count": 57,
     "metadata": {},
     "output_type": "execute_result"
    }
   ],
   "source": [
    "embeddings.shape"
   ]
  },
  {
   "cell_type": "code",
   "execution_count": 58,
   "metadata": {
    "collapsed": false
   },
   "outputs": [
    {
     "data": {
      "text/html": [
       "<div>\n",
       "<table border=\"1\" class=\"dataframe\">\n",
       "  <thead>\n",
       "    <tr style=\"text-align: right;\">\n",
       "      <th></th>\n",
       "      <th>0</th>\n",
       "      <th>1</th>\n",
       "      <th>2</th>\n",
       "      <th>3</th>\n",
       "      <th>4</th>\n",
       "      <th>5</th>\n",
       "      <th>6</th>\n",
       "      <th>7</th>\n",
       "      <th>8</th>\n",
       "      <th>9</th>\n",
       "      <th>...</th>\n",
       "      <th>91</th>\n",
       "      <th>92</th>\n",
       "      <th>93</th>\n",
       "      <th>94</th>\n",
       "      <th>95</th>\n",
       "      <th>96</th>\n",
       "      <th>97</th>\n",
       "      <th>98</th>\n",
       "      <th>99</th>\n",
       "      <th>100</th>\n",
       "    </tr>\n",
       "  </thead>\n",
       "  <tbody>\n",
       "    <tr>\n",
       "      <th>0</th>\n",
       "      <td>4950</td>\n",
       "      <td>0.029411</td>\n",
       "      <td>-0.029011</td>\n",
       "      <td>0.030342</td>\n",
       "      <td>0.007137</td>\n",
       "      <td>0.020240</td>\n",
       "      <td>-0.001895</td>\n",
       "      <td>-0.006940</td>\n",
       "      <td>-0.045064</td>\n",
       "      <td>-0.011115</td>\n",
       "      <td>...</td>\n",
       "      <td>0.006787</td>\n",
       "      <td>-0.006308</td>\n",
       "      <td>-0.016844</td>\n",
       "      <td>0.004014</td>\n",
       "      <td>-0.014748</td>\n",
       "      <td>-0.036794</td>\n",
       "      <td>-0.013607</td>\n",
       "      <td>-0.041849</td>\n",
       "      <td>-0.022406</td>\n",
       "      <td>-0.036598</td>\n",
       "    </tr>\n",
       "    <tr>\n",
       "      <th>1</th>\n",
       "      <td>5539</td>\n",
       "      <td>0.017118</td>\n",
       "      <td>-0.019020</td>\n",
       "      <td>0.035118</td>\n",
       "      <td>0.001949</td>\n",
       "      <td>0.002670</td>\n",
       "      <td>0.021218</td>\n",
       "      <td>0.007540</td>\n",
       "      <td>-0.060382</td>\n",
       "      <td>0.013636</td>\n",
       "      <td>...</td>\n",
       "      <td>0.016347</td>\n",
       "      <td>-0.021389</td>\n",
       "      <td>-0.016782</td>\n",
       "      <td>-0.016390</td>\n",
       "      <td>-0.012767</td>\n",
       "      <td>-0.059798</td>\n",
       "      <td>0.012339</td>\n",
       "      <td>-0.061959</td>\n",
       "      <td>-0.027567</td>\n",
       "      <td>-0.034974</td>\n",
       "    </tr>\n",
       "    <tr>\n",
       "      <th>2</th>\n",
       "      <td>2020</td>\n",
       "      <td>0.013364</td>\n",
       "      <td>-0.045871</td>\n",
       "      <td>0.027574</td>\n",
       "      <td>0.007143</td>\n",
       "      <td>0.028880</td>\n",
       "      <td>-0.002263</td>\n",
       "      <td>0.008852</td>\n",
       "      <td>-0.051995</td>\n",
       "      <td>-0.012710</td>\n",
       "      <td>...</td>\n",
       "      <td>-0.004698</td>\n",
       "      <td>-0.007786</td>\n",
       "      <td>-0.020610</td>\n",
       "      <td>-0.012364</td>\n",
       "      <td>-0.004817</td>\n",
       "      <td>-0.039080</td>\n",
       "      <td>0.000911</td>\n",
       "      <td>-0.055822</td>\n",
       "      <td>-0.019091</td>\n",
       "      <td>-0.033684</td>\n",
       "    </tr>\n",
       "    <tr>\n",
       "      <th>3</th>\n",
       "      <td>4958</td>\n",
       "      <td>0.005615</td>\n",
       "      <td>-0.011613</td>\n",
       "      <td>-0.000398</td>\n",
       "      <td>0.007768</td>\n",
       "      <td>0.018303</td>\n",
       "      <td>-0.004873</td>\n",
       "      <td>0.011256</td>\n",
       "      <td>-0.030620</td>\n",
       "      <td>0.009395</td>\n",
       "      <td>...</td>\n",
       "      <td>0.004837</td>\n",
       "      <td>-0.012773</td>\n",
       "      <td>-0.018486</td>\n",
       "      <td>-0.009675</td>\n",
       "      <td>0.007834</td>\n",
       "      <td>-0.010578</td>\n",
       "      <td>0.016816</td>\n",
       "      <td>-0.030405</td>\n",
       "      <td>-0.007841</td>\n",
       "      <td>-0.014204</td>\n",
       "    </tr>\n",
       "    <tr>\n",
       "      <th>4</th>\n",
       "      <td>1842</td>\n",
       "      <td>0.018154</td>\n",
       "      <td>-0.026671</td>\n",
       "      <td>0.026202</td>\n",
       "      <td>0.013188</td>\n",
       "      <td>0.013489</td>\n",
       "      <td>0.012235</td>\n",
       "      <td>0.006163</td>\n",
       "      <td>-0.058092</td>\n",
       "      <td>0.005688</td>\n",
       "      <td>...</td>\n",
       "      <td>0.005404</td>\n",
       "      <td>-0.024490</td>\n",
       "      <td>-0.020467</td>\n",
       "      <td>-0.020339</td>\n",
       "      <td>-0.012503</td>\n",
       "      <td>-0.041725</td>\n",
       "      <td>0.004853</td>\n",
       "      <td>-0.054272</td>\n",
       "      <td>-0.037077</td>\n",
       "      <td>-0.024752</td>\n",
       "    </tr>\n",
       "  </tbody>\n",
       "</table>\n",
       "<p>5 rows × 101 columns</p>\n",
       "</div>"
      ],
      "text/plain": [
       "    0         1         2         3         4         5         6         7    \\\n",
       "0  4950  0.029411 -0.029011  0.030342  0.007137  0.020240 -0.001895 -0.006940   \n",
       "1  5539  0.017118 -0.019020  0.035118  0.001949  0.002670  0.021218  0.007540   \n",
       "2  2020  0.013364 -0.045871  0.027574  0.007143  0.028880 -0.002263  0.008852   \n",
       "3  4958  0.005615 -0.011613 -0.000398  0.007768  0.018303 -0.004873  0.011256   \n",
       "4  1842  0.018154 -0.026671  0.026202  0.013188  0.013489  0.012235  0.006163   \n",
       "\n",
       "        8         9      ...          91        92        93        94   \\\n",
       "0 -0.045064 -0.011115    ...     0.006787 -0.006308 -0.016844  0.004014   \n",
       "1 -0.060382  0.013636    ...     0.016347 -0.021389 -0.016782 -0.016390   \n",
       "2 -0.051995 -0.012710    ...    -0.004698 -0.007786 -0.020610 -0.012364   \n",
       "3 -0.030620  0.009395    ...     0.004837 -0.012773 -0.018486 -0.009675   \n",
       "4 -0.058092  0.005688    ...     0.005404 -0.024490 -0.020467 -0.020339   \n",
       "\n",
       "        95        96        97        98        99        100  \n",
       "0 -0.014748 -0.036794 -0.013607 -0.041849 -0.022406 -0.036598  \n",
       "1 -0.012767 -0.059798  0.012339 -0.061959 -0.027567 -0.034974  \n",
       "2 -0.004817 -0.039080  0.000911 -0.055822 -0.019091 -0.033684  \n",
       "3  0.007834 -0.010578  0.016816 -0.030405 -0.007841 -0.014204  \n",
       "4 -0.012503 -0.041725  0.004853 -0.054272 -0.037077 -0.024752  \n",
       "\n",
       "[5 rows x 101 columns]"
      ]
     },
     "execution_count": 58,
     "metadata": {},
     "output_type": "execute_result"
    }
   ],
   "source": [
    "embeddings.head()"
   ]
  },
  {
   "cell_type": "markdown",
   "metadata": {},
   "source": [
    "## Graphing embeddings"
   ]
  },
  {
   "cell_type": "code",
   "execution_count": 67,
   "metadata": {
    "collapsed": false
   },
   "outputs": [
    {
     "data": {
      "image/png": "[encoded data removed]",
      "text/plain": [
       "<matplotlib.figure.Figure at 0x114aa7518>"
      ]
     },
     "metadata": {},
     "output_type": "display_data"
    }
   ],
   "source": [
    "import matplotlib.pyplot as plt\n",
    "import seaborn as sns\n",
    "# matplotlib.use('Agg')\n",
    "\n",
    "# colors = dict(zip(set(vclust.membership), ['r', 'g', 'b', 'k']))\n",
    "# v_colors = [colors[k] for k in vclust.membership]\n",
    "\n",
    "plt.scatter(embeddings[1][:100,], embeddings[3][:100,]);\n",
    "\n",
    "# for n, x, y in zip(names, XX[:,0], XX[:,1]):\n",
    "#       plt.annotate(n, xy=(x,y), xytext = (-20, 20), textcoords = 'offset points', ha = 'right', va = 'bottom',arrowprops = dict(arrowstyle = '->', connectionstyle = 'arc3,rad=0'))\n",
    "# plt.savefig(\"embedding_figs\")"
   ]
  },
  {
   "cell_type": "code",
   "execution_count": null,
   "metadata": {
    "collapsed": true
   },
   "outputs": [],
   "source": []
  }
 ],
 "metadata": {
  "kernelspec": {
   "display_name": "Python 3",
   "language": "python",
   "name": "python3"
  },
  "language_info": {
   "codemirror_mode": {
    "name": "ipython",
    "version": 3
   },
   "file_extension": ".py",
   "mimetype": "text/x-python",
   "name": "python",
   "nbconvert_exporter": "python",
   "pygments_lexer": "ipython3",
   "version": "3.6.0"
  }
 },
 "nbformat": 4,
 "nbformat_minor": 2
}
